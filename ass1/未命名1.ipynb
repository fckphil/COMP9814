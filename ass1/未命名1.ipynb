{
 "cells": [
  {
   "cell_type": "code",
   "execution_count": 1,
   "metadata": {},
   "outputs": [],
   "source": [
    "import time\n",
    "import numpy as np\n",
    "import copy\n",
    "from aipython.searchGeneric import *\n",
    "from aipython.searchProblem import *\n",
    "from aipython.cspProblem import *\n",
    "from aipython.cspSearch import *"
   ]
  },
  {
   "cell_type": "code",
   "execution_count": 6,
   "metadata": {},
   "outputs": [],
   "source": [
    "def queens(ri,rj):\n",
    "    \"\"\"ri and rj are different rows, return the condition that the queens cannot take each other\"\"\"\n",
    "    def no_take(ci,cj):\n",
    "        \"is true if queen are (ri,ci) cannot take a queen are (rj,cj)\"\n",
    "        return ci != cj and abs(ri-ci) != abs(rj-cj)\n",
    "    return no_take\n",
    "\n",
    "def n_queens(n):\n",
    "    \"\"\"returns a CSP for n-queens\"\"\"\n",
    "    columns = list(range(n))\n",
    "    return CSP(\n",
    "               {'R'+str(i):columns for i in range(n)},\n",
    "                [Constraint(['R'+str(i),'R'+str(j)], queens(i,j)) for i in range(n) for j in range(n) if i != j])\n",
    "\n",
    "from aipython.cspConsistency import Con_solver\n",
    "qs = Con_solver(n_queens(5))\n",
    "# qs.solve_one()"
   ]
  },
  {
   "cell_type": "code",
   "execution_count": 7,
   "metadata": {},
   "outputs": [
    {
     "data": {
      "text/plain": [
       "{'R0': 2, 'R1': 4, 'R2': 1, 'R3': 3, 'R4': 0}"
      ]
     },
     "execution_count": 7,
     "metadata": {},
     "output_type": "execute_result"
    }
   ],
   "source": [
    "qs.solve_one()\n"
   ]
  },
  {
   "cell_type": "code",
   "execution_count": null,
   "metadata": {},
   "outputs": [],
   "source": []
  }
 ],
 "metadata": {
  "kernelspec": {
   "display_name": "Python 3",
   "language": "python",
   "name": "python3"
  },
  "language_info": {
   "codemirror_mode": {
    "name": "ipython",
    "version": 3
   },
   "file_extension": ".py",
   "mimetype": "text/x-python",
   "name": "python",
   "nbconvert_exporter": "python",
   "pygments_lexer": "ipython3",
   "version": "3.7.9"
  }
 },
 "nbformat": 4,
 "nbformat_minor": 4
}
