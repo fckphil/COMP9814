{
 "cells": [
  {
   "cell_type": "markdown",
   "metadata": {},
   "source": [
    "# COMP3411/9418 21T0 Assignment 1\n",
    "\n",
    "- Lecturer: Anna Trofimova\n",
    "- School of Computer Science and Engineering, UNSW Sydney\n",
    "- Last Update 13th January at 18:00pm, 2021\n",
    "$$\n",
    "% macros\n",
    "\\newcommand{\\indep}{\\perp \\!\\!\\!\\perp}\n",
    "$$"
   ]
  },
  {
   "cell_type": "markdown",
   "metadata": {},
   "source": [
    "## Student:\n",
    "Name, zID"
   ]
  },
  {
   "cell_type": "markdown",
   "metadata": {},
   "source": [
    "### Submission\n",
    "This interactive notebook contains the instructions to complete assignment 1; You should submit this notebook with the code and answers in one single file in .ipybn format with the name assignment1.ipybn. **Write your name and zID in the cell above** (to edit the markdown text double-click the cell).\n",
    "\n",
    "There is a maximum file size cap of 5MB, so make sure your submission does not exceed this size. The submitted notebook should contain all your source code and answers. You can add new cells and use markdown text to organise and explain your implementation/answer.\n",
    "\n",
    "Submit your files using give. On a CSE Linux machine, type the following on the command-line:"
   ]
  },
  {
   "cell_type": "raw",
   "metadata": {},
   "source": [
    "$ give cs3411 ass1 assignment1.ipynb"
   ]
  },
  {
   "cell_type": "markdown",
   "metadata": {},
   "source": [
    "The submission deadline is **22nd January at 11.59pm, 2021.**"
   ]
  },
  {
   "cell_type": "markdown",
   "metadata": {},
   "source": [
    "### Late Submission Policy \n",
    "The penalty is set at 20% per late day. This is ceiling penalty, so if your submission is marked 60/100 and it was submitted two days late, you still get 60/100. If you submit 5 days later, then the penalty is 100% and your mark will be 0."
   ]
  },
  {
   "cell_type": "markdown",
   "metadata": {},
   "source": [
    "### Plagiarism\n",
    "This is an individual assignment. Remember that **all** work submitted for this assignment must be your own **individual** work and no code\n",
    "sharing or copying is allowed. You may use code from the Internet only with suitable attribution\n",
    "of the source in your program. **Do not use public code repositories as your code might be copied.** Keep in mind that sharing parts of assignment solutions is a form of plagiarism. All submitted assignments will be run through plagiarism detection software to detect similarities to other submissions. You should carefully read the UNSW policy on academic integrity and plagiarism. \n",
    "\n",
    "### **Note: if your life is falling apart and you are tempted to plagiarize as to not fail the assignment, please send me an email instead. I would rather grant you an extention than report you to the Student Conduct and Integrity Unit**."
   ]
  },
  {
   "cell_type": "markdown",
   "metadata": {},
   "source": [
    "### Description\n",
    "\n",
    "This assignment consists of two problems presented in a puzzle game context. For the first problem, you will be implementing a path search problem along with common search algorithms and evaluating their properties. For the second problem, you will be exploring how to define and solve a constraint satisfaction problem. To implement the solutions, you have to use AIPython code that provides you with many implemented classes and examples of their use.  \n",
    "\n",
    "When working with a Jupyter notebook, you can edit the \\*.py files either in the Jupyter interface (in your browser) or with your favorite editor (e.g., PyCharm). Whenever you save a \\*.py file, the notebook will reload their content directly.\n",
    "\n",
    "The libraries that you can use (and need) in this assignment are  the following (run the cell below to import the libraries):"
   ]
  },
  {
   "cell_type": "code",
   "execution_count": 23,
   "metadata": {},
   "outputs": [],
   "source": [
    "import time\n",
    "import numpy as np\n",
    "import copy\n",
    "\n",
    "import sys\n",
    "sys.path.insert(0, \"aipython\")\n",
    "from aipython.searchGeneric import *\n",
    "from aipython.searchProblem import *\n",
    "from aipython.cspProblem import *\n",
    "from aipython.cspSearch import *"
   ]
  },
  {
   "cell_type": "markdown",
   "metadata": {},
   "source": [
    "*Tip: If you placed the notebook correctly it should not give you any errors.*\n",
    "\n",
    "*If you think that there are other libraries you might need then send an email to the lecturer-in-charge to confirm.*"
   ]
  },
  {
   "cell_type": "markdown",
   "metadata": {},
   "source": [
    "### Part 1 - Heuristics [5 marks]\n",
    "\n",
    "This part of the assignment is based on a popular puzzle, Game of Fifteen, also known as 15-puzzle. The game consists of 15 numbered tiles on a four by four grid where one tile is missing. To solve the puzzle, the tiles must be moved so that they are ordered from 1 to 15. The goal state of the puzzle is defined as a multidimensional array of digits#, where 0 represents the missing tile, as follow:"
   ]
  },
  {
   "cell_type": "code",
   "execution_count": 24,
   "metadata": {},
   "outputs": [],
   "source": [
    "goal = [[1, 2, 3, 4], \n",
    "        [5, 6, 7, 8], \n",
    "        [9, 10, 11, 12], \n",
    "        [13, 14, 15, 0]]"
   ]
  },
  {
   "cell_type": "markdown",
   "metadata": {},
   "source": [
    "#### Task 1.1\n",
    "Edit the code below to implement a search problem class representing the Game of Fifteen that uses heuristic based on Manhattan Distance (h1). The class must be implemented by extending the class Search\\_problem. \n",
    "\n",
    "Manhattan Distance between two points $p1$ at $(x1, y1)$ and $p2$ at $(x2, y2)$ is $d_{M}(p1, p2) = |x1 - x2| + |y1 - y2|$\n",
    "\n",
    "*Tip: If you have problems understanding how to overwrite methods take a look at the implementation of Search_problem_from_explicit_graph class in searchProblem.py*\n"
   ]
  },
  {
   "cell_type": "code",
   "execution_count": 25,
   "metadata": {},
   "outputs": [],
   "source": [
    "class GameFifteenProblem(Search_problem):\n",
    "    \n",
    "    def __init__(self, start, goal):\n",
    "        self.start = np.array(start)\n",
    "        self.goal = np.array(goal)\n",
    "\n",
    "    def start_node(self):\n",
    "        \"\"\"Returns the start node\"\"\"\n",
    "        return self.start          \n",
    "    \n",
    "    def is_goal(self, node):\n",
    "        \"\"\"Returns True if the node is the goal, otherwise False\"\"\"\n",
    "        return np.all(node == self.goal)\n",
    "    \n",
    "    def neighbors(self, node):\n",
    "        \"\"\"Returns a list of the arcs for the neighbors of node, for example: \n",
    "        return [Arc(node, to_neighbor_node1, cost1), Arc(node, to_neighbor_node2, cost2)]\"\"\"\n",
    "        for row in range(4):\n",
    "            for col in range(4):\n",
    "                if node[row][col] == 0:\n",
    "                    zero_x = row\n",
    "                    zero_y = col\n",
    "        direction_x = [0,0,-1,1]  #direction: bottom, top, left, right\n",
    "        direction_y = [-1,1,0,0]\n",
    "        nei_list = []\n",
    "        for i in range(4):        #in four direction\n",
    "            new_array = copy.deepcopy(node)  \n",
    "            nei_x = zero_x + direction_x[i]   #[x, y] of its neighbour\n",
    "            nei_y = zero_y + direction_y[i]\n",
    "            if nei_x in range(4) and nei_y in range(4): #if not exceeds the bound\n",
    "                #swap the value of the neighbours and '0'\n",
    "                new_array[zero_x][zero_y] = new_array[nei_x][nei_y] \n",
    "                new_array[nei_x][nei_y] = 0\n",
    "                nei_list.append(new_array)\n",
    "        return[Arc(node, nei_list[i], 1) for i in range(len(nei_list))]\n",
    "    def heuristic(self, node):\n",
    "        \"\"\"Returns the heuristic value of the node \n",
    "        based on the Manhattan distance\"\"\"\n",
    "        cost = 0\n",
    "        for i in range(4):\n",
    "            for j in range(4):\n",
    "                if (node[i][j] == goal[i][j]) or node[i][j] == 0: #if in goal location or is '0'\n",
    "                    continue\n",
    "                else:\n",
    "                    target_number = node[i][j]\n",
    "                    for x in range(4):\n",
    "                        for y in range(4):\n",
    "                            if goal[x][y] == target_number:\n",
    "                                target_x, target_y = x, y\n",
    "                                cost += (abs(i - target_x) + abs(j - target_y))\n",
    "        return cost"
   ]
  },
  {
   "cell_type": "markdown",
   "metadata": {},
   "source": [
    "To validate the correctness of the problem class use the A* searcher algorithm (from searchGeneric.py) to find a solution. \n",
    "\n",
    "*Tip: The cost of the solution should be 9.*"
   ]
  },
  {
   "cell_type": "code",
   "execution_count": 26,
   "metadata": {
    "scrolled": true
   },
   "outputs": [
    {
     "name": "stdout",
     "output_type": "stream",
     "text": [
      "10 paths have been expanded and 22 paths remain in the frontier\n",
      "Cost:  9\n"
     ]
    }
   ],
   "source": [
    "start = [[1, 2, 3, 4], \n",
    "         [9, 5, 6, 7], \n",
    "         [10, 11, 8, 0], \n",
    "         [13, 14, 15, 12]]\n",
    "puzzle = GameFifteenProblem(start, goal)\n",
    "searcher = AStarSearcher(puzzle)\n",
    "solution = searcher.search()\n",
    "print('Cost: ',  solution.cost)"
   ]
  },
  {
   "cell_type": "markdown",
   "metadata": {},
   "source": [
    "#### Task 1.2 \n",
    "Implement search problem classes representing the Game of Fifteen that use heuristics based on Euclidean Distance (h2) and the number of the inversions of the permutation (h3). The classes must be implemented by extending the class GameFifteenProblem.\n",
    "\n",
    "Euclidean distance between two points $p1$ at $(x1, y1)$ and $p2$ at $(x2, y2)$ is $d_{E}(p1, p2) =  \\sqrt{(x1-x2)^{2}+ (y1-y2)^{2}}$\n",
    "\n",
    "An inversion of a permutation $(t_{1},t_{2},...,t_{n})$ of the elements in a finite n-element set of positive integers $A=\\{1,2,...,n\\}$ is the pair $(t_{j},t_{k})$, where $j<k$ and $t_{j}>t_{k}$.\n",
    "\n",
    "$\\sum_{j=1}^{N} \\sum_{k=j}^{N}    \\{t_{j} > t_{k}: 1, otherwise: 0\\}$, where $N$ is the total number of elements and $t_{i}$ is the value of i-th element."
   ]
  },
  {
   "cell_type": "code",
   "execution_count": 27,
   "metadata": {},
   "outputs": [],
   "source": [
    "class GameFifteenProblemEuclidean(GameFifteenProblem):\n",
    "    def __init__(self, start, goal):\n",
    "        (super().__init__(start, goal))\n",
    "\n",
    "    def heuristic(self, node):\n",
    "        \"\"\"Returns the heuristic value of the node \n",
    "        based on the Euclidean distance\"\"\"\n",
    "        cost = 0\n",
    "        for i in range(4):\n",
    "            for j in range(4):\n",
    "                if node[i][j] == goal[i][j] or node[i][j] == 0:\n",
    "                    continue\n",
    "                else:\n",
    "                    target_number = node[i][j]\n",
    "                    for x in range(4):\n",
    "                        for y in range(4):\n",
    "                            if goal[x][y] == target_number:\n",
    "                                target_x, target_y = x, y\n",
    "                                cost += ((i - target_x) * (i - target_x) + (j - target_y) * (j - target_y)) ** 0.5\n",
    "        return cost"
   ]
  },
  {
   "cell_type": "code",
   "execution_count": 28,
   "metadata": {},
   "outputs": [],
   "source": [
    "class GameFifteenProblemInversions(GameFifteenProblem):\n",
    "    def __init__(self, start, goal):\n",
    "        (super().__init__(start, goal))\n",
    "\n",
    "    def heuristic(self, node):\n",
    "        \"\"\"Returns the heuristic value of the node \n",
    "        based on the sum of the inversion number of a permutation\"\"\"\n",
    "        cost = 0\n",
    "        nodes = []\n",
    "        for i in range(4):\n",
    "            for j in range(4):\n",
    "                if node[i][j] == 0:\n",
    "                    continue\n",
    "                nodes.append(node[i][j])\n",
    "        \n",
    "        for i in range(len(nodes)):\n",
    "            for j in range(i + 1, len(nodes)):\n",
    "                if nodes[j] < nodes[i]:\n",
    "                    cost += 1\n",
    "        return cost"
   ]
  },
  {
   "cell_type": "markdown",
   "metadata": {},
   "source": [
    "#### Task 1.3\n",
    "Run A* Search algorithm with every heuristic for the following three start states:"
   ]
  },
  {
   "cell_type": "code",
   "execution_count": 7,
   "metadata": {
    "pycharm": {
     "name": "#%%\n"
    }
   },
   "outputs": [],
   "source": [
    "# optimal path cost: 14\n",
    "start14 = [[1, 2, 8, 3],\n",
    "           [5, 6, 7, 4],\n",
    "           [9, 15, 14, 11],\n",
    "           [13, 10, 12, 0]]\n",
    "\n",
    "# optimal path cost: 17\n",
    "start17 = [[1, 3, 6, 4],\n",
    "           [5, 2, 8, 14],\n",
    "           [9, 15, 7, 0],\n",
    "           [13, 10, 12, 11]]\n",
    "\n",
    "# optimal path cost: 23\n",
    "start23 = [[1, 3, 6, 4],\n",
    "           [5, 8, 15, 14],\n",
    "           [9, 2, 7, 0],\n",
    "           [13, 10, 12, 11]]\n",
    "\n"
   ]
  },
  {
   "cell_type": "code",
   "execution_count": 8,
   "metadata": {},
   "outputs": [
    {
     "name": "stdout",
     "output_type": "stream",
     "text": [
      "start14:\n",
      "**Based on Manhattan Distance:\n",
      "49 paths have been expanded and 94 paths remain in the frontier\n",
      "Cost:  14\n",
      "h Value for the start states:  12\n",
      "**Based on Euclidean distance:\n",
      "196 paths have been expanded and 390 paths remain in the frontier\n",
      "Cost:  14\n",
      "h Value for the start states:  9.65685424949238\n",
      "**Based on the number of the inversions of the permutation :\n",
      "30 paths have been expanded and 62 paths remain in the frontier\n",
      "Cost:  14\n",
      "h Value for the start states:  20\n",
      "start17:\n",
      "**Based on Manhattan Distance:\n",
      "20 paths have been expanded and 45 paths remain in the frontier\n",
      "Cost:  17\n",
      "h Value for the start states:  17\n",
      "**Based on Euclidean distance:\n",
      "309 paths have been expanded and 704 paths remain in the frontier\n",
      "Cost:  17\n",
      "h Value for the start states:  13.485281374238573\n",
      "**Based on the number of the inversions of the permutation :\n",
      "1029 paths have been expanded and 2422 paths remain in the frontier\n",
      "Cost:  17\n",
      "h Value for the start states:  23\n",
      "start23:\n",
      "**Based on Manhattan Distance:\n",
      "569 paths have been expanded and 1213 paths remain in the frontier\n",
      "Cost:  23\n",
      "h Value for the start states:  19\n",
      "**Based on Euclidean distance:\n",
      "10083 paths have been expanded and 22192 paths remain in the frontier\n",
      "Cost:  23\n",
      "h Value for the start states:  16.071067811865476\n",
      "**Based on the number of the inversions of the permutation :\n",
      "87774 paths have been expanded and 192844 paths remain in the frontier\n",
      "Cost:  27\n",
      "h Value for the start states:  29\n"
     ]
    }
   ],
   "source": [
    "start_list = [start14, start17, start23]\n",
    "name_list = ['start14', 'start17', 'start23']\n",
    "for i in range(len(start_list)):\n",
    "    start = start_list[i]\n",
    "    print(name_list[i] + ':')\n",
    "    print('**Based on Manhattan Distance:')\n",
    "    puzzle_1 = GameFifteenProblem(start, goal)\n",
    "    searcher_1 = AStarSearcher(puzzle_1)\n",
    "    solution_1 = searcher_1.search()\n",
    "    print('Cost: ',  solution_1.cost)\n",
    "    print('h Value for the start states: ', puzzle_1.heuristic(start))\n",
    "    \n",
    "    print('**Based on Euclidean distance:')\n",
    "    puzzle_2 = GameFifteenProblemEuclidean(start, goal)\n",
    "    searcher_2 = AStarSearcher(puzzle_2)\n",
    "    solution_2 = searcher_2.search()\n",
    "    print('Cost: ',  solution_2.cost)\n",
    "    print('h Value for the start states: ', puzzle_2.heuristic(start))\n",
    "    \n",
    "    print('**Based on the number of the inversions of the permutation :')\n",
    "    puzzle_3 = GameFifteenProblemInversions(start, goal)\n",
    "    searcher_3 = AStarSearcher(puzzle_3)\n",
    "    solution_3 = searcher_3.search()\n",
    "    print('Cost: ',  solution_3.cost)\n",
    "    print('h Value for the start states: ', puzzle_3.heuristic(start))"
   ]
  },
  {
   "cell_type": "markdown",
   "metadata": {},
   "source": [
    "In each case record in the tables below the heuristic values for the start states, the number of the expanded nodes, and the costs of the solutions."
   ]
  },
  {
   "cell_type": "markdown",
   "metadata": {},
   "source": [
    "## \n",
    "| Heuristic | h-value: start14 | h-value: start17 | h-value: start23 |\n",
    "|-----------|------------------|------------------|------------------|\n",
    "|Manhattan  | 12               | 17               | 19               | \n",
    "|Euclidean  | 9.65             | 13.48            | 16.07            | \n",
    "|Inversions | 20               | 23               | 29               | \n",
    "\n",
    "| Heuristic | expanded: start14 | expanded: start17 | expanded: start23 |\n",
    "|-----------|-------------------|-------------------|-------------------|\n",
    "|Manhattan  | 49                | 20                | 569               | \n",
    "|Euclidean  | 196               | 309               | 10083             |  \n",
    "|Inversions | 30                | 1029              | 87774             |  \n",
    "\n",
    "| Heuristic | path cost: start14 | path cost: start17 | path cost: start23 |\n",
    "|-----------|--------------------|--------------------|--------------------|\n",
    "|Manhattan  | 14                 | 17                 | 23                 | \n",
    "|Euclidean  | 14                 | 17                 | 23                 |\n",
    "|Inversions | 14                 | 17                 | 27                 |"
   ]
  },
  {
   "cell_type": "markdown",
   "metadata": {},
   "source": [
    "Comment on the performance of the A* search algorithm with each heuristic based on the results in the tables. Explain which heuristic is better/worse and why."
   ]
  },
  {
   "cell_type": "raw",
   "metadata": {},
   "source": [
    "According to the table above, for start14, heuristic based on the number of the inversions of the permutation expands the least nodes and much less than the other two functions, but for start17 and start23, the number of expanded nodes (Inversions >> Euclidean > Manhattan). For heuristic based on Manhattan and Euclidean distance, the A* algorithm will finally find the optimal path. But for heuristic based on inversions, the algorithm fails to find the optimal path in start23.\n",
    "\n",
    "A* choose the next action based on f() = g() + h() where g() is the cost from the start node and h() is heuristic, for this specific task. h() represents the estimates of the least cost from current node to the goal node. Obviously, the function that calculates heuristic has remarkbale effect on the performance of the A* search algorithm. The speed of the A* algorithm based on different heuristic is (Manhattan > Euclidean > Inversions) in my experiment.\n",
    "\n",
    "It could be concluded that Manhattan is better and Inversions is the worst for calculating the heuristic for this task. The h-value for Manhattan is more closer to the actural least cost to the goal node. Besides, the h-value for both Manhattan and Euclidean is generally less than the actual cost of moving to the goal. This ensures that the A* search algorithm will find the optimal path. However, Manhattan is still bettern than Euclidean. Manhattan is more suitable for this task, since the number in each node could only move right, left, top or bottom. Thus Manhattan distance is more close to the actual cost than the Euclidean distance. It should be also noticed that the h-value for Manhattan is bigger than that for Euclidean. The less h-value is, the more number of nodes A* will expand, resulting the speed of A* being slower.\n",
    "\n",
    "Inversions fails to find the optimal path in start 23. This is because the h-value of Inversions is much greater than the actural least cost from the current node to the goal node. In another word, Inversions could not represent the actual cost from current state to the goal state. Thus, A* based on Inversionns is less likely to choose the optimal path, which makes the speed of it being very slow than the other two.\n"
   ]
  },
  {
   "cell_type": "markdown",
   "metadata": {},
   "source": [
    "### Part 2:  Search algorithms [7 marks]\n",
    "\n",
    "*Tip: If you have problems understanding how to overwrite methods take a look at the implementation of AStarSearcher and  Searcher classes in searchGeneric.py*\n",
    "\n",
    "*Tip: To initialize the frontier think of the type of structure used by the algorithm to store generated nodes. If it uses a priority queue use FrontierPQ from serachGeneric.py*\n",
    "\n",
    "#### Task 2.1\n",
    "Implement a class that performs Breadth First Search by extending class Searcher."
   ]
  },
  {
   "cell_type": "code",
   "execution_count": 29,
   "metadata": {},
   "outputs": [],
   "source": [
    "class BreadthFirstSearcher(Searcher):\n",
    "    \n",
    "    def __init__(self,  problem):\n",
    "        super().__init__(problem)\n",
    "\n",
    "    \"\"\" Initializes the forontier \"\"\"\n",
    "    def initialize_frontier(self):\n",
    "        self.frontier = FrontierPQ()\n",
    "\n",
    "    \"\"\" Returns True if there are no more nodes to expand \"\"\"\n",
    "    def empty_frontier(self):\n",
    "        return self.frontier.empty()\n",
    "\n",
    "    \"\"\" Adds the path to the forontier \"\"\"\n",
    "    def add_to_frontier(self, path):\n",
    "        #self.frontier.add(path, self.frontier.frontier_index)\n",
    "        self.frontier.add(path, path.cost)\n",
    "    \"\"\"returns (next) path from the problem's start node\n",
    "        to a goal node. \"\"\"\n",
    "    def search(self):\n",
    "        visited = set()\n",
    "        while not self.empty_frontier():\n",
    "            #check if memory out for task2.5\n",
    "#             if len(self.frontier) > 1000000:\n",
    "#                 print(\"Memory usage exceeds.\")\n",
    "#                 return 0\n",
    "            path = self.frontier.pop()\n",
    "            self.display(2, \"Expanding:\",path,\"(cost:\",path.cost,\")\")\n",
    "            self.num_expanded += 1\n",
    "            if self.problem.is_goal(path.end()):    # solution found\n",
    "                self.display(1, self.num_expanded, \"paths have been expanded and\",\n",
    "                            len(self.frontier), \"paths remain in the frontier\")\n",
    "                self.solution = path   # store the solution found\n",
    "                #print('visited: ', visited)\n",
    "                return path\n",
    "                \n",
    "            else:\n",
    "                neighs = self.problem.neighbors(path.end())\n",
    "                self.display(3,\"Neighbors are\", neighs)\n",
    "                for arc in reversed(list(neighs)):\n",
    "                    if (str(arc.to_node) not in visited): #if the node has not been visited\n",
    "                        visited.add(str(arc.to_node))\n",
    "                        self.add_to_frontier(Path(path,arc))  #add the neighbour to the path\n",
    "                self.display(3,\"Frontier:\",self.frontier)\n",
    "        self.display(1,\"No (more) solutions. Total of\",\n",
    "                     self.num_expanded,\"paths expanded.\")                "
   ]
  },
  {
   "cell_type": "markdown",
   "metadata": {},
   "source": [
    "#### Task 2.2\n",
    "\n",
    "Implement a class that performs Iterative Deepening Search by extending class Searcher."
   ]
  },
  {
   "cell_type": "code",
   "execution_count": 30,
   "metadata": {},
   "outputs": [],
   "source": [
    "class IterativeDeepeningSearcher(Searcher):\n",
    "    def __init__(self, problem):\n",
    "        super().__init__(problem)\n",
    "\n",
    "    \"\"\" Initializes the forontier \"\"\"\n",
    "    def initialize_frontier(self):\n",
    "        self.frontier = []\n",
    "\n",
    "    \"\"\" Returns True if there are no more nodes to expand \"\"\"\n",
    "    def empty_frontier(self):\n",
    "        return self.frontier == []\n",
    "\n",
    "    \"\"\" Adds the path to the forontier \"\"\"\n",
    "    def add_to_frontier(self, path):\n",
    "        self.frontier.append(path)\n",
    "    \n",
    "    def search(self):\n",
    "        depth_tresh = 0  #the threshold for depth, at the beginning = 0\n",
    "        while(True):\n",
    "            visited = set()\n",
    "            while not self.empty_frontier():\n",
    "                #check if memory out for task2.5\n",
    "#                 if len(self.frontier) > 1000000:\n",
    "#                     print(\"Memory usage exceeds.\")\n",
    "#                     return 0\n",
    "                path = self.frontier.pop()\n",
    "                self.display(2, \"Expanding:\",path,\"(cost:\",path.cost,\")\")\n",
    "                self.num_expanded += 1\n",
    "                if self.problem.is_goal(path.end()):    # solution found\n",
    "                    self.display(1, self.num_expanded, \"paths have been expanded and\",\n",
    "                                len(self.frontier), \"paths remain in the frontier\")\n",
    "                    self.solution = path   # store the solution found\n",
    "                    return path\n",
    "                else:\n",
    "                    neighs = self.problem.neighbors(path.end())\n",
    "                    self.display(3,\"Neighbors are\", neighs)\n",
    "                    for arc in reversed(list(neighs)):\n",
    "                        if str(arc.to_node) not in visited:\n",
    "                            visited.add(str(arc.to_node))\n",
    "                            new_path = Path(path,arc)\n",
    "                            if new_path.cost <= depth_tresh:\n",
    "                                self.add_to_frontier(new_path)\n",
    "                    self.display(3,\"Frontier:\",self.frontier)\n",
    "            #print('depth tresh = ', depth_tresh, ', no solution found.')\n",
    "            depth_tresh += 1       #update the threshold\n",
    "            \n",
    "            #initialize after each iteration\n",
    "            self.initialize_frontier()   \n",
    "            self.add_to_frontier(Path(self.problem.start_node()))\n",
    "            self.num_expanded = 0\n",
    "            \n",
    "            \n",
    "            "
   ]
  },
  {
   "cell_type": "markdown",
   "metadata": {},
   "source": [
    "#### Task 2.3\n",
    "Implement a class that performs Iterative Deepening A* Search by extending class Searcher."
   ]
  },
  {
   "cell_type": "code",
   "execution_count": 31,
   "metadata": {},
   "outputs": [],
   "source": [
    "class IterativeDeepeningAStarSearcher(Searcher):\n",
    "    \"\"\" Initializes the forontier \"\"\"\n",
    "    def initialize_frontier(self):\n",
    "        self.frontier = []\n",
    "\n",
    "    \"\"\" Returns True if there are no more nodes to expand \"\"\"\n",
    "    def empty_frontier(self):\n",
    "        return self.frontier == []\n",
    "\n",
    "    \"\"\" Adds the path to the forontier \"\"\"\n",
    "    def add_to_frontier(self, path):\n",
    "        self.frontier.append(path)\n",
    "    \n",
    "    def search(self):\n",
    "        h_tresh = 0 + self.problem.heuristic(self.problem.start_node()) #threshold for f()\n",
    "                                    #at the beginning, cost = 0, f = 0 + h(start)\n",
    "        begin = copy.deepcopy(self.frontier)   \n",
    "        while (True):\n",
    "            visited = set()\n",
    "            h_greater = set()     #store f = g()+h() that greater than the threshold\n",
    "            while not self.empty_frontier():\n",
    "                #check if memory out for task2.5\n",
    "#                 if len(self.frontier) > 1000000:\n",
    "#                     print(\"Memory usage exceeds.\")\n",
    "#                     return 0\n",
    "                path = self.frontier.pop()\n",
    "                self.display(2, \"Expanding:\",path,\"(cost:\",path.cost,\")\")\n",
    "                self.num_expanded += 1\n",
    "                if self.problem.is_goal(path.end()):    # solution found\n",
    "                    self.display(1, self.num_expanded, \"paths have been expanded and\",\n",
    "                                len(self.frontier), \"paths remain in the frontier\")\n",
    "                    self.solution = path   # store the solution found\n",
    "                    #print('tresh = ', h_tresh, ', solution found')\n",
    "                    return path\n",
    "                else:\n",
    "                    neighs = self.problem.neighbors(path.end())\n",
    "                    self.display(3,\"Neighbors are\", neighs)\n",
    "                    for arc in reversed(list(neighs)):\n",
    "                        if str(arc.to_node) not in visited:\n",
    "                            visited.add(str(arc.to_node))\n",
    "                            new_path = Path(path, arc)\n",
    "                            if new_path.cost + self.problem.heuristic(new_path.end()) <= h_tresh:\n",
    "                                #if g(n) + h(n) <= h_tresh, expand the node\n",
    "                                self.add_to_frontier(new_path)\n",
    "                            else:\n",
    "                                h_greater.add(new_path.cost + self.problem.heuristic(new_path.end()))\n",
    "                    self.display(3,\"Frontier:\",self.frontier)\n",
    "            #self.display(3, \"tresh = \", h_tresh, \", no solution.\")\n",
    "            \n",
    "            #update h_threshold\n",
    "            h_tresh = min(h_greater)\n",
    "            #initialize after each iterationn\n",
    "            self.initialize_frontier()\n",
    "            self.add_to_frontier(Path(self.problem.start_node()))\n",
    "            self.num_expanded = 0\n",
    "\n",
    "            "
   ]
  },
  {
   "cell_type": "markdown",
   "metadata": {},
   "source": [
    "#### Task 2.4\n",
    "Implement a class that performs Uniform Cost Search by extending class Searcher."
   ]
  },
  {
   "cell_type": "code",
   "execution_count": 32,
   "metadata": {},
   "outputs": [],
   "source": [
    "class UniformCostSearcher(Searcher):\n",
    "    \"\"\" Initializes the forontier \"\"\"\n",
    "    def initialize_frontier(self):\n",
    "        self.frontier = FrontierPQ()\n",
    "\n",
    "    \"\"\" Returns True if there are no more nodes to expand \"\"\"\n",
    "    def empty_frontier(self):\n",
    "        return self.frontier.empty()\n",
    "\n",
    "    \"\"\" Adds the path to the forontier \"\"\"\n",
    "    def add_to_frontier(self, path):\n",
    "        self.frontier.add(path, path.cost)\n",
    "        #check if memory out for task2.5\n",
    "#         if len(self.frontier) > 1000000:\n",
    "#             print(\"Memory usage exceeds.\")"
   ]
  },
  {
   "cell_type": "markdown",
   "metadata": {},
   "source": [
    "#### Task 2.5\n",
    "\n",
    "Run Breadth First Search (BFS), Iterative Deepenining Search (IDS), Iterative Deepening A* Search (IDA\\*S), and Uniform Cost Search (UCS) algorithms on each of the 5 start states:"
   ]
  },
  {
   "cell_type": "code",
   "execution_count": 34,
   "metadata": {},
   "outputs": [],
   "source": [
    "# optimal path cost: 10\n",
    "start10 = [[2, 3, 7, 4],\n",
    "           [1, 6, 11, 8],\n",
    "           [5, 10, 0, 12],\n",
    "           [9, 13, 14, 15]]\n",
    "\n",
    "# optimal path cost: 24\n",
    "start24 = [[2, 7, 11, 4],\n",
    "           [6, 3, 12, 0],\n",
    "           [1, 5, 15, 8],\n",
    "           [9, 10, 13, 14]]\n",
    "\n",
    "# optimal path cost: 30\n",
    "start30 = [[2, 7, 11, 4],\n",
    "           [6, 3, 12, 0],\n",
    "           [1, 5, 15, 14],\n",
    "           [9, 10, 8, 13]]\n",
    "\n",
    "# optimal path cost: 36\n",
    "start36 = [[7, 11, 12, 4],\n",
    "           [2, 3, 14, 1],\n",
    "           [6, 5, 13, 8],\n",
    "           [9, 10, 15, 0]]\n",
    "\n",
    "# optimal path cost: 41\n",
    "start41 = [[7, 11, 12, 4],\n",
    "           [2, 3, 8, 14],\n",
    "           [10, 0, 5, 1],\n",
    "           [6, 9, 13, 15]]\n",
    "\n",
    "# name = ['start10', 'start24', 'start30', 'start36', 'start41']\n",
    "# start = [start10, start24, start30, start36, start41]\n",
    "# for i in range(len(start)):\n",
    "#     print(\"###### \", name[i], \" ######\")    #print the name of start\n",
    "#     puzzle = GameFifteenProblem(start[i], goal)\n",
    "#     #BFS:\n",
    "#     print(\"### BFS ###\")\n",
    "#     searcher = BreadthFirstSearcher(puzzle)\n",
    "#     solution = searcher.search()\n",
    "#     print('   Cost: ',  solution.cost)\n",
    "    \n",
    "#     #A*:\n",
    "#     print('### A* ###')\n",
    "#     searcher = AStarSearcher(puzzle)\n",
    "#     solution = searcher.search()\n",
    "#     print('   Cost: ', solution.cost)\n",
    "    \n",
    "#     #IDS:\n",
    "#     print('### IDS ###')\n",
    "#     searcher = IterativeDeepeningSearcher(puzzle)\n",
    "#     solution = searcher.search()\n",
    "#     print('   Cost: ', solution.cost)\n",
    "\n",
    "#     #IDA*:\n",
    "#     print(\"### IDA* ###\")\n",
    "#     searcher = IterativeDeepeningAStarSearcher(puzzle)\n",
    "#     solution = searcher.search()\n",
    "#     print('   Cost: ', solution.cost)\n",
    "    \n",
    "#     #UCS:\n",
    "#     print(\"### UCS ###\")\n",
    "#     searcher = UniformCostSearcher(puzzle)\n",
    "#     solution = searcher.search()\n",
    "#     print('   Cost: ', solution.cost)"
   ]
  },
  {
   "cell_type": "markdown",
   "metadata": {},
   "source": [
    "In each case, record in the table below the number of nodes generated during the search. If the algorithm runs out of memory or the number of nodes in the frontier exceeds 1 million items, just write “Mem” in your table. If the code runs for five minutes without producing output, terminate the process and write “Time” in your table.\n",
    "\n",
    "*Tip: To edit the table double click the cell below.*"
   ]
  },
  {
   "cell_type": "markdown",
   "metadata": {},
   "source": [
    "| Algorithm | 10      | 24      | 30      | 36      | 41      |\n",
    "|-----------|---------|---------|---------|---------|---------|\n",
    "|BFS        | 8810    | time    | time    | time    | time    |\n",
    "|A*         | 31      | 276     | 3712    | 449462  | time    |\n",
    "|IDS        | 2377    | time    | time    | time    | time    |\n",
    "|IDA\\*S     | 11      | 240     | 824     | 4982    | 11826   |\n",
    "|UCS        | 466348  | Mem     | Mem     | Mem     | Mem     |"
   ]
  },
  {
   "cell_type": "markdown",
   "metadata": {},
   "source": [
    "Discuss the time and space efficiency of these four algorithms, comment on the results in the table."
   ]
  },
  {
   "cell_type": "raw",
   "metadata": {},
   "source": [
    "# your answer\n",
    "Space Efficiency:\n",
    "IDA > IDS > A* > BFS > UCS ( '>' represents 'more space efficient than')\n",
    "Time Efficiency:\n",
    "IDA > A* > IDS > BFS > UCS ( '>' represents 'more space efficient than')\n",
    "\n",
    "IDA and IDS use the stack while A*, BFS and UCS use the FrontierPQ to store the nodes. This means IDA and IDS are more space efficient.\n",
    "Although in each iteration where the threshold is updated, the upper nondes may be visited many times, but after each iteration, 'frontier' would be cleared and initialized. Compared with IDS which uses depth as the threshold and update it by increasing one each time, IDA uses f() = g() + h() as the threshold. This means IDA will stop expanding the node if it is estimated not at the optimal path. IDA only needs store a stack of nodes which represents the branch of the tree it is expanding, and such 'pruning' results in IDA bebing more efficient than IDS(Space Complexity O(d) for IDA but O(bd) for IDS).\n",
    "Although all of A*, BFS and UCS uses FrontierPQ, A* uses less memory since A* is a heuristic search but BFS is a blind search. A* uses heuristic function to choose the best action. In this task, the cost of each action is the same (1). Thus UCS is equal to BFS in this task, but UCS does not check whether the node has been expanded, which means nodes may be added to the frontier repeatedly and the algorithm is likely to fall into a circulation, and the memory space will be used up soon.\n",
    "\n",
    "The time complexity is the same for all algorithms above(O(b^d)). However, recall that IDA and A* uses the heuristic function to choose a 'good' action, they could be much time efficient than others. IDA has a limit for expanding a node, thus performs better than A*."
   ]
  },
  {
   "cell_type": "markdown",
   "metadata": {},
   "source": [
    "### Part 3: Deceptive Starting States [3 marks]\n",
    "\n",
    "#### Task 3.1 \n",
    "\n",
    "Run IDA* on the starting states below and report the number of the expanded nodes."
   ]
  },
  {
   "cell_type": "code",
   "execution_count": 35,
   "metadata": {},
   "outputs": [
    {
     "name": "stdout",
     "output_type": "stream",
     "text": [
      "29139 paths have been expanded and 10 paths remain in the frontier\n",
      "Cost:  41\n",
      "995 paths have been expanded and 14 paths remain in the frontier\n",
      "Cost:  37\n"
     ]
    }
   ],
   "source": [
    "start37_1 = [[7, 11, 12, 4],\n",
    "             [2, 3, 14, 1],\n",
    "             [6, 5, 13, 0],\n",
    "             [9, 10, 15, 8]]\n",
    "\n",
    "start37_2 = [[7, 11, 12, 4],\n",
    "             [2, 3, 8, 14],\n",
    "             [6, 0, 1, 15],\n",
    "             [9, 5, 10, 13]]\n",
    "#start37_1:\n",
    "puzzle1 = GameFifteenProblem(start37_1, goal)\n",
    "searcher1 = IterativeDeepeningAStarSearcher(puzzle1)\n",
    "solution1 = searcher1.search()\n",
    "print('Cost: ',  solution1.cost)\n",
    "\n",
    "\n",
    "#start37_2:\n",
    "puzzle2 = GameFifteenProblem(start37_2, goal)\n",
    "searcher2 = IterativeDeepeningAStarSearcher(puzzle2)\n",
    "solution2 = searcher2.search()\n",
    "print('Cost: ',  solution2.cost)\n",
    "\n",
    "#The number of expanded nodes for start37_1: 29139\n",
    "#The number of expanded nodes for start37_2: 995\n"
   ]
  },
  {
   "cell_type": "markdown",
   "metadata": {},
   "source": [
    "#### Task 3.2\n",
    "\n",
    "Explain why there is a difference between the number of the expanded nodes for these starting states if their costs of the optimal paths are the same."
   ]
  },
  {
   "cell_type": "raw",
   "metadata": {},
   "source": [
    "According to the heuristic function used (based on Manhattan Distance), \n",
    "h(37_1) = 31,  h(37_2) = 35.\n",
    "IDA uses the f() of the start node as the initial threshold and updates it in each iteration. Because h(37_2) = 35 is more closed to the optimal cost(37), thus needs less iteration to find the optimal path."
   ]
  },
  {
   "cell_type": "markdown",
   "metadata": {},
   "source": [
    "### Part 4:  Constraint Satisfaction Problem [5 marks]\n",
    "\n",
    "This part of the assignment is based on another puzzle called Sudoku. The game consists of 9x9 grid with a few cells filled in with digits. The objective of the game is to fill the remaining cells so that each column, each row, and each of the nine 3×3 sub-grids contain all of the digits from 1 to 9.\n",
    "\n",
    "The start state of the puzzle is defined as a multidimensional array of numbers, where 0 represents empty cells, for example:"
   ]
  },
  {
   "cell_type": "code",
   "execution_count": 36,
   "metadata": {},
   "outputs": [],
   "source": [
    "grid = [[9, 5, 0, 8, 2, 7, 3, 0, 0],\n",
    "        [0, 8, 0, 1, 4, 0, 0, 5, 0],\n",
    "        [0, 1, 0, 5, 9, 0, 0, 0, 0],\n",
    "        [8, 3, 0, 0, 0, 0, 0, 7, 5],\n",
    "        [1, 6, 9, 7, 5, 2, 4, 3, 0],\n",
    "        [0, 7, 0, 0, 8, 0, 0, 6, 0],\n",
    "        [0, 9, 1, 0, 6, 0, 8, 4, 0],\n",
    "        [7, 0, 8, 0, 3, 1, 0, 0, 6],\n",
    "        [6, 2, 0, 4, 7, 8, 0, 9, 0]]"
   ]
  },
  {
   "cell_type": "markdown",
   "metadata": {},
   "source": [
    "*Tip: If you have problems with understanding how to implement constrains take a look at cspExamples.py and cspExamplesQueens.py*"
   ]
  },
  {
   "cell_type": "markdown",
   "metadata": {},
   "source": [
    "#### Task 4.1\n",
    "\n",
    "Write the code that defines constraint(s) and a function grid_to_csp that returns a CSP for a Sudoku puzzle:"
   ]
  },
  {
   "cell_type": "code",
   "execution_count": 37,
   "metadata": {},
   "outputs": [],
   "source": [
    "\n",
    "def sudoku(grid, positioni, positionj):\n",
    "    #position = [i, j]\n",
    "    grid = np.array(grid)\n",
    "    def check(vi, vj): \n",
    "        if (positioni[0]//3 == positionj[0]//3) and (positioni[1]//3 == positionj[1]//3):\n",
    "            #means position 1 and position2 are in a same 3*3 matrix\n",
    "            if vi == vj:\n",
    "                return False\n",
    "        #else not in the same matrix\n",
    "        #if in the same row\n",
    "        if positioni[0] == positionj[0] and vi == vj:\n",
    "            return False\n",
    "        #check if the row has this value\n",
    "        if vi in grid[positioni[0]] or vj in grid[positionj[0]]:\n",
    "            return False\n",
    "        #if in the same col\n",
    "        if positioni[1] == positionj[1] and vi == vj:\n",
    "            return False\n",
    "        #check if the col has this value\n",
    "        if vi in grid[:,positioni[1]] or vj in grid[:,positionj[1]]:\n",
    "            return False\n",
    "        return True\n",
    "    return check\n",
    "             \n",
    "def grid_to_csp(grid):\n",
    "    position = [] # [x, y] for grid[x][y] = 0\n",
    "    for i in range(9):\n",
    "        for j in range(9):\n",
    "            if grid[i][j] == 0:\n",
    "                position.append([i, j])\n",
    "                \n",
    "    matrix_list = []  #list of each 3*3 matrix\n",
    "    grid = np.array(grid)\n",
    "    for i in range(0, 7, 3):\n",
    "        for j in range(0, 7, 3):\n",
    "            matrix_list.append((grid[i:i+3,j:j+3]))\n",
    "            \n",
    "    numbers = list(range(1, 10))\n",
    "    domains = {}\n",
    "    for i in range(len(position)):\n",
    "        possible_num = list(num for num in range(1, 10)) \n",
    "        for row_num in grid[position[i][0]]:\n",
    "            if row_num in possible_num:  #if the row has this value\n",
    "                possible_num.remove(row_num)\n",
    "        for col_num in grid[:, position[i][1]]:\n",
    "            if col_num in possible_num:  #if the col has this value\n",
    "                possible_num.remove(col_num)\n",
    "        index = 3 * (position[i][0] // 3) + position[i][1] // 3 #find the 3*3 matrix's index of this position\n",
    "        for number in possible_num:\n",
    "            if number in matrix_list[index]:  #if the matrix has this value\n",
    "                possible_num.remove(number)\n",
    "        domains['position' + str(position[i])] = possible_num\n",
    "    #print(domains)\n",
    "    constraints = [Constraint(['position' + str(position[i]), 'position' + str(position[j])], \n",
    "                              sudoku(grid, position[i], position[j])) \n",
    "                              for i in range(len(position)) for j in range(len(position)) if i != j] \n",
    "    return CSP(domains, constraints)"
   ]
  },
  {
   "cell_type": "code",
   "execution_count": 38,
   "metadata": {},
   "outputs": [
    {
     "data": {
      "text/plain": [
       "{'position[0, 2]': 6,\n",
       " 'position[0, 7]': 1,\n",
       " 'position[0, 8]': 4,\n",
       " 'position[1, 0]': 2,\n",
       " 'position[1, 2]': 7,\n",
       " 'position[1, 5]': 3,\n",
       " 'position[1, 6]': 6,\n",
       " 'position[1, 8]': 9,\n",
       " 'position[2, 0]': 4,\n",
       " 'position[2, 2]': 3,\n",
       " 'position[2, 5]': 6,\n",
       " 'position[2, 6]': 7,\n",
       " 'position[2, 7]': 8,\n",
       " 'position[2, 8]': 2,\n",
       " 'position[3, 2]': 4,\n",
       " 'position[3, 3]': 6,\n",
       " 'position[3, 4]': 1,\n",
       " 'position[3, 5]': 9,\n",
       " 'position[3, 6]': 2,\n",
       " 'position[4, 8]': 8,\n",
       " 'position[5, 0]': 5,\n",
       " 'position[5, 2]': 2,\n",
       " 'position[5, 3]': 3,\n",
       " 'position[5, 5]': 4,\n",
       " 'position[5, 6]': 9,\n",
       " 'position[5, 8]': 1,\n",
       " 'position[6, 0]': 3,\n",
       " 'position[6, 3]': 2,\n",
       " 'position[6, 5]': 5,\n",
       " 'position[6, 8]': 7,\n",
       " 'position[7, 1]': 4,\n",
       " 'position[7, 3]': 9,\n",
       " 'position[7, 6]': 5,\n",
       " 'position[7, 7]': 2,\n",
       " 'position[8, 2]': 5,\n",
       " 'position[8, 6]': 1,\n",
       " 'position[8, 8]': 3}"
      ]
     },
     "execution_count": 38,
     "metadata": {},
     "output_type": "execute_result"
    }
   ],
   "source": [
    "from aipython.cspConsistency import Con_solver\n",
    "qs = Con_solver(grid_to_csp(grid))\n",
    "qs.solve_one()\n"
   ]
  },
  {
   "cell_type": "markdown",
   "metadata": {},
   "source": [
    "#### Task 4.2\n",
    "\n",
    "Write the code that solves Sudoku csp using a search algorithms of your choice, print the solution."
   ]
  },
  {
   "cell_type": "code",
   "execution_count": 65,
   "metadata": {},
   "outputs": [
    {
     "name": "stdout",
     "output_type": "stream",
     "text": [
      "16822 paths have been expanded and 6 paths remain in the frontier\n",
      "Answer:\n",
      "[[9 5 6 8 2 7 3 1 4]\n",
      " [2 8 7 1 4 3 6 5 9]\n",
      " [4 1 3 5 9 6 7 8 2]\n",
      " [8 3 2 6 1 4 9 7 5]\n",
      " [1 6 9 7 5 2 4 3 8]\n",
      " [5 7 4 3 8 9 2 6 1]\n",
      " [3 9 1 2 6 5 8 4 7]\n",
      " [7 4 8 9 3 1 5 2 6]\n",
      " [6 2 5 4 7 8 1 9 3]]\n"
     ]
    }
   ],
   "source": [
    "############Use DFS:\n",
    "searcher = Searcher(Search_from_CSP(grid_to_csp(grid)))\n",
    "a = searcher.search().end()\n",
    "answer_dict = copy.deepcopy(a) #dictionary. position[i][j] : value\n",
    "answer_num = []                #a list of number of the answer\n",
    "answer = copy.deepcopy(grid)\n",
    "answer = np.array(answer)\n",
    "\n",
    "for key in sorted(answer_dict.keys()):   #sort the keys\n",
    "    answer_num.append(answer_dict[key])   \n",
    "    \n",
    "count = 0    #use to define the position of the answer\n",
    "for i in range(9):\n",
    "    for j in range(9):\n",
    "        if answer[i][j] == 0: \n",
    "            answer[i][j] = answer_num[count]\n",
    "            count += 1\n",
    "print('Answer:')\n",
    "print(answer)"
   ]
  },
  {
   "cell_type": "code",
   "execution_count": 43,
   "metadata": {},
   "outputs": [
    {
     "name": "stdout",
     "output_type": "stream",
     "text": [
      "11887 paths have been expanded and 3 paths remain in the frontier\n",
      "Answer:\n",
      "[[9 5 6 8 2 7 3 1 4]\n",
      " [2 8 7 1 4 3 6 5 9]\n",
      " [4 1 3 5 9 6 7 8 2]\n",
      " [8 3 2 6 1 4 9 7 5]\n",
      " [1 6 9 7 5 2 4 3 8]\n",
      " [5 7 4 3 8 9 2 6 1]\n",
      " [3 9 1 2 6 5 8 4 7]\n",
      " [7 4 8 9 3 1 5 2 6]\n",
      " [6 2 5 4 7 8 1 9 3]]\n"
     ]
    }
   ],
   "source": [
    "# ###########Use BFS could also find the solution but takes more time\n",
    "# searcher = BreadthFirstSearcher(Search_from_CSP(grid_to_csp(grid)))\n",
    "# a = searcher.search().end()\n",
    "# answer_dict = copy.deepcopy(a)  \n",
    "# answer_num = []\n",
    "# answer = copy.deepcopy(grid)\n",
    "# answer = np.array(answer)\n",
    "\n",
    "\n",
    "# for key in sorted(answer_dict.keys()):\n",
    "#     answer_num.append(answer_dict[key])\n",
    "    \n",
    "# count = 0\n",
    "# for i in range(9):\n",
    "#     for j in range(9):\n",
    "#         if answer[i][j] == 0:\n",
    "#             answer[i][j] = answer_num[count]\n",
    "#             count += 1\n",
    "# print('Answer:')\n",
    "# print(answer)"
   ]
  },
  {
   "cell_type": "markdown",
   "metadata": {},
   "source": [
    "#### Task 4.3\n",
    "\n",
    "Descibe what do nodes represent in the search tree. Explain your choice of the search algorithm and compare it with any other search algorithm implemented in this assignemnt. "
   ]
  },
  {
   "cell_type": "raw",
   "metadata": {},
   "source": [
    "In the search tree, each nodes represent a dictionary {variables:values}. The key is the variable(a position of '0' in the grid(index in the matrix) for the '0') and the value is its value.\n",
    "\n",
    "I choose the DFS search algorithm in this task. The depth of the search tree is limited and must has an end in this task. Thus DFS could must find a solution if there is a solution. The constraints of upper nodes are limited. However, with the increasement of the depth, the constraints are becoming more complex. The target of the Sudoku game is find an answer, rather the way that can find the anwer is the best is not important. So heuristic(A*, IDA) is not necessary. IDA also would visited upper node in the search tree many times, which wastes time and space.\n",
    "\n",
    "Compared with BFS (equal to UCS in this task) and A*, DFS is more space efficiency. In addition, the result(answer) locates at the bottom of the search tree. Thus DFS is more efficient than BFS since in BFS, the node at the bottom will be visited at last. This advantage would be expanded especially in the case that the Sudoku game has more than one solution. This is also the reason why I don't use IDS. Limiting the depth is meaningless in this task, but will cost much more time."
   ]
  }
 ],
 "metadata": {
  "kernelspec": {
   "display_name": "Python 3",
   "language": "python",
   "name": "python3"
  },
  "language_info": {
   "codemirror_mode": {
    "name": "ipython",
    "version": 3
   },
   "file_extension": ".py",
   "mimetype": "text/x-python",
   "name": "python",
   "nbconvert_exporter": "python",
   "pygments_lexer": "ipython3",
   "version": "3.7.9"
  }
 },
 "nbformat": 4,
 "nbformat_minor": 2
}
